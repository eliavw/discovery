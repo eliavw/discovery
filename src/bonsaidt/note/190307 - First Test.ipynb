{
 "cells": [
  {
   "cell_type": "markdown",
   "metadata": {},
   "source": [
    "# First Test"
   ]
  },
  {
   "cell_type": "code",
   "execution_count": 1,
   "metadata": {
    "collapsed": true
   },
   "outputs": [],
   "source": [
    "import os\n",
    "import sys\n",
    "\n",
    "import numpy as np\n",
    "import pandas as pd\n",
    "from sklearn.datasets import make_friedman1\n",
    "from sklearn.model_selection import train_test_split\n",
    "\n",
    "import matplotlib.pyplot as plt\n",
    "import seaborn as sns\n",
    "\n",
    "note_dir = os.getcwd()\n",
    "root_dir = os.path.dirname(note_dir)\n",
    "sys.path.append(root_dir)\n",
    "\n",
    "import bonsai\n",
    "from bonsai.base import *"
   ]
  },
  {
   "cell_type": "code",
   "execution_count": 2,
   "metadata": {
    "collapsed": true
   },
   "outputs": [],
   "source": [
    "def plot_corr(corr):\n",
    "    fig = plt.figure(figsize=((10,10))) # slightly larger\n",
    "    ax = fig.add_subplot(111)\n",
    "    cax = ax.matshow(corr,cmap='seismic')\n",
    "    fig.colorbar(cax)\n",
    "    \n",
    "    for (i, j), z in np.ndenumerate(corr):\n",
    "        ax.text(j, i, '{:0.4f}'.format(z), ha='center', va='center', color='w')\n",
    "    return "
   ]
  },
  {
   "cell_type": "code",
   "execution_count": 3,
   "metadata": {
    "collapsed": true
   },
   "outputs": [],
   "source": [
    "def summarize_dataset(df, samples=1000, random_state=997, replace=False):\n",
    "    \"\"\"\n",
    "    This function plots a grid of plots that give some insights into pairwise relationships between\n",
    "    the attributes in the dataset.\n",
    "    \n",
    "    Explicit correlations or special distributions should be very visible here.\n",
    "    \"\"\"\n",
    "    \n",
    "    df_subsample = df.sample(n=samples, replace=False, random_state=random_state)\n",
    "    \n",
    "    sns.set(style=\"ticks\", color_codes=True)\n",
    "    g = sns.PairGrid(df_subsample) # slice every 10 otherwise a bit slow\n",
    "    g = g.map_diag(plt.hist) # histograms on the diagonal\n",
    "    g = g.map_lower(sns.kdeplot, cmap=\"Blues_d\") # density plot on the lower plots\n",
    "    g = g.map_upper(plt.scatter) # scatter plots on the upper plots\n",
    "    return"
   ]
  },
  {
   "cell_type": "markdown",
   "metadata": {},
   "source": [
    "## Data"
   ]
  },
  {
   "cell_type": "code",
   "execution_count": 4,
   "metadata": {},
   "outputs": [],
   "source": [
    "# Synthetic DataSet using sklearn\n",
    "X, y = make_friedman1(n_samples=10**5, n_features=5, noise=4.0) \n",
    "n, m = X.shape\n",
    "X_train, X_test, y_train, y_test = train_test_split(X, y, test_size=0.2)"
   ]
  },
  {
   "cell_type": "code",
   "execution_count": 5,
   "metadata": {},
   "outputs": [
    {
     "data": {
      "text/html": [
       "<div>\n",
       "<style scoped>\n",
       "    .dataframe tbody tr th:only-of-type {\n",
       "        vertical-align: middle;\n",
       "    }\n",
       "\n",
       "    .dataframe tbody tr th {\n",
       "        vertical-align: top;\n",
       "    }\n",
       "\n",
       "    .dataframe thead th {\n",
       "        text-align: right;\n",
       "    }\n",
       "</style>\n",
       "<table border=\"1\" class=\"dataframe\">\n",
       "  <thead>\n",
       "    <tr style=\"text-align: right;\">\n",
       "      <th></th>\n",
       "      <th>0</th>\n",
       "      <th>1</th>\n",
       "      <th>2</th>\n",
       "      <th>3</th>\n",
       "      <th>4</th>\n",
       "      <th>y</th>\n",
       "    </tr>\n",
       "  </thead>\n",
       "  <tbody>\n",
       "    <tr>\n",
       "      <th>0</th>\n",
       "      <td>0.511622</td>\n",
       "      <td>0.867534</td>\n",
       "      <td>0.740695</td>\n",
       "      <td>0.365937</td>\n",
       "      <td>0.286077</td>\n",
       "      <td>20.122470</td>\n",
       "    </tr>\n",
       "    <tr>\n",
       "      <th>1</th>\n",
       "      <td>0.896073</td>\n",
       "      <td>0.167271</td>\n",
       "      <td>0.828719</td>\n",
       "      <td>0.617285</td>\n",
       "      <td>0.785871</td>\n",
       "      <td>24.586417</td>\n",
       "    </tr>\n",
       "    <tr>\n",
       "      <th>2</th>\n",
       "      <td>0.987545</td>\n",
       "      <td>0.548902</td>\n",
       "      <td>0.402765</td>\n",
       "      <td>0.305214</td>\n",
       "      <td>0.460607</td>\n",
       "      <td>15.841110</td>\n",
       "    </tr>\n",
       "    <tr>\n",
       "      <th>3</th>\n",
       "      <td>0.661780</td>\n",
       "      <td>0.035307</td>\n",
       "      <td>0.458410</td>\n",
       "      <td>0.062542</td>\n",
       "      <td>0.116113</td>\n",
       "      <td>-0.817720</td>\n",
       "    </tr>\n",
       "    <tr>\n",
       "      <th>4</th>\n",
       "      <td>0.606436</td>\n",
       "      <td>0.523485</td>\n",
       "      <td>0.651928</td>\n",
       "      <td>0.276019</td>\n",
       "      <td>0.773375</td>\n",
       "      <td>16.663088</td>\n",
       "    </tr>\n",
       "  </tbody>\n",
       "</table>\n",
       "</div>"
      ],
      "text/plain": [
       "          0         1         2         3         4          y\n",
       "0  0.511622  0.867534  0.740695  0.365937  0.286077  20.122470\n",
       "1  0.896073  0.167271  0.828719  0.617285  0.785871  24.586417\n",
       "2  0.987545  0.548902  0.402765  0.305214  0.460607  15.841110\n",
       "3  0.661780  0.035307  0.458410  0.062542  0.116113  -0.817720\n",
       "4  0.606436  0.523485  0.651928  0.276019  0.773375  16.663088"
      ]
     },
     "execution_count": 5,
     "metadata": {},
     "output_type": "execute_result"
    }
   ],
   "source": [
    "df = pd.DataFrame(X)\n",
    "df = df.assign(y=y)\n",
    "df.head()"
   ]
  },
  {
   "cell_type": "code",
   "execution_count": 6,
   "metadata": {},
   "outputs": [
    {
     "data": {
      "image/png": "[encoded data removed]",
      "text/plain": [
       "<Figure size 720x720 with 2 Axes>"
      ]
     },
     "metadata": {
      "needs_background": "light"
     },
     "output_type": "display_data"
    }
   ],
   "source": [
    "corr = df.corr().values\n",
    "plot_corr(corr)"
   ]
  },
  {
   "cell_type": "markdown",
   "metadata": {},
   "source": [
    "## Build Tree\n",
    "\n",
    "Build trees and derive randomizations and see how their result behaves."
   ]
  },
  {
   "cell_type": "code",
   "execution_count": 7,
   "metadata": {},
   "outputs": [
    {
     "data": {
      "text/plain": [
       "4.4517052468852185"
      ]
     },
     "execution_count": 7,
     "metadata": {},
     "output_type": "execute_result"
    }
   ],
   "source": [
    "# Initialize\n",
    "model = RegTree(max_depth=10)\n",
    "\n",
    "# Fit\n",
    "model.fit(X_train, y_train)\n",
    "\n",
    "# Predict\n",
    "y_pred = model.predict(X_test)\n",
    "\n",
    "rmse_original = np.sqrt(np.mean((y_test - y_pred)**2))\n",
    "rmse_original"
   ]
  },
  {
   "cell_type": "code",
   "execution_count": 8,
   "metadata": {},
   "outputs": [
    {
     "name": "stdout",
     "output_type": "stream",
     "text": [
      "7.9093176770850295\n"
     ]
    },
    {
     "data": {
      "image/png": "[encoded data removed]",
      "text/plain": [
       "<Figure size 432x288 with 1 Axes>"
      ]
     },
     "metadata": {
      "needs_background": "light"
     },
     "output_type": "display_data"
    }
   ],
   "source": [
    "derived_trees = [model.randomize_tree(kind=\"swap\") for _ in range(100)]\n",
    "derived_pred = [m.predict(X_test) for m in derived_trees]\n",
    "derived_rmse = [np.sqrt(np.mean((y_test - y_pred)**2)) for y_pred in derived_pred]\n",
    "delta_rmse = [rmse_original-d for d in derived_rmse]\n",
    "\n",
    "mean_pred = np.mean(derived_pred, axis=0)\n",
    "rmse_mean = np.sqrt(np.mean((y_test - mean_pred)**2))\n",
    "print(rmse_mean)\n",
    "\n",
    "plt.hist(delta_rmse, 30, density=True)\n",
    "plt.show()"
   ]
  },
  {
   "cell_type": "code",
   "execution_count": 9,
   "metadata": {},
   "outputs": [
    {
     "name": "stdout",
     "output_type": "stream",
     "text": [
      "5.320425125119175\n"
     ]
    }
   ],
   "source": [
    "derived_trees = [model.randomize_tree(kind=\"tunnel\") for _ in range(100)]\n",
    "derived_pred = [m.predict(X_test) for m in derived_trees]\n",
    "derived_rmse = [np.sqrt(np.mean((y_test - y_pred)**2)) for y_pred in derived_pred]\n",
    "delta_rmse = [rmse_original-d for d in derived_rmse]\n",
    "\n",
    "mean_pred = np.mean(derived_pred, axis=0)\n",
    "rmse_mean = np.sqrt(np.mean((y_test - mean_pred)**2))\n",
    "print(rmse_mean)"
   ]
  },
  {
   "cell_type": "code",
   "execution_count": 10,
   "metadata": {},
   "outputs": [
    {
     "data": {
      "image/png": "[encoded data removed]",
      "text/plain": [
       "<Figure size 432x288 with 1 Axes>"
      ]
     },
     "metadata": {
      "needs_background": "light"
     },
     "output_type": "display_data"
    }
   ],
   "source": [
    "plt.hist(delta_rmse, 30, density=True)\n",
    "plt.show()"
   ]
  }
 ],
 "metadata": {
  "kernelspec": {
   "display_name": "Python [conda env:bonsai]",
   "language": "python",
   "name": "conda-env-bonsai-py"
  },
  "language_info": {
   "codemirror_mode": {
    "name": "ipython",
    "version": 3
   },
   "file_extension": ".py",
   "mimetype": "text/x-python",
   "name": "python",
   "nbconvert_exporter": "python",
   "pygments_lexer": "ipython3",
   "version": "3.6.8"
  },
  "toc": {
   "nav_menu": {},
   "number_sections": true,
   "sideBar": true,
   "skip_h1_title": true,
   "toc_cell": false,
   "toc_position": {},
   "toc_section_display": "block",
   "toc_window_display": false
  }
 },
 "nbformat": 4,
 "nbformat_minor": 2
}
