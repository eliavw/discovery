{
 "cells": [
  {
   "cell_type": "markdown",
   "metadata": {},
   "source": [
    "# Bonsai Predict Proba\n",
    "\n",
    "I need this function also in BonsaiTrees."
   ]
  },
  {
   "cell_type": "markdown",
   "metadata": {},
   "source": [
    "## Imports"
   ]
  },
  {
   "cell_type": "code",
   "execution_count": 1,
   "metadata": {
    "collapsed": true
   },
   "outputs": [],
   "source": [
    "# Basic imports\n",
    "import sklearn\n",
    "import numpy as np\n",
    "import pandas as pd\n",
    "import os\n",
    "import sys\n",
    "\n",
    "\n",
    "from os.path import dirname\n",
    "from sklearn.tree import *\n",
    "from sklearn.datasets import load_iris\n",
    "from sklearn.metrics import f1_score, accuracy_score, classification_report\n",
    "from sklearn.model_selection import train_test_split"
   ]
  },
  {
   "cell_type": "code",
   "execution_count": 2,
   "metadata": {
    "collapsed": true
   },
   "outputs": [],
   "source": [
    "# Custom Imports\n",
    "note_dir = os.getcwd()\n",
    "root_dir = dirname(note_dir)\n",
    "src_dir = os.path.join(root_dir, 'src')\n",
    "bonsai_dir = os.path.join(src_dir, 'bonsaidt')\n",
    "\n",
    "sys.path.extend([src_dir, bonsai_dir])"
   ]
  },
  {
   "cell_type": "code",
   "execution_count": 3,
   "metadata": {
    "collapsed": true
   },
   "outputs": [],
   "source": [
    "import bonsai\n",
    "import mercs\n",
    "\n",
    "from bonsai.base import *\n",
    "from bonsai.utils.visuals import (plot_corr,\n",
    "                                  plot_summary_grid)"
   ]
  },
  {
   "cell_type": "markdown",
   "metadata": {},
   "source": [
    "## Datasets"
   ]
  },
  {
   "cell_type": "code",
   "execution_count": 4,
   "metadata": {
    "collapsed": true
   },
   "outputs": [],
   "source": [
    "iris = load_iris()\n",
    "X, y = iris['data'], iris['target']\n",
    "X_train, X_test, y_train, y_test = train_test_split(X, y, test_size=0.2)"
   ]
  },
  {
   "cell_type": "code",
   "execution_count": 5,
   "metadata": {},
   "outputs": [
    {
     "data": {
      "text/html": [
       "<div>\n",
       "<style scoped>\n",
       "    .dataframe tbody tr th:only-of-type {\n",
       "        vertical-align: middle;\n",
       "    }\n",
       "\n",
       "    .dataframe tbody tr th {\n",
       "        vertical-align: top;\n",
       "    }\n",
       "\n",
       "    .dataframe thead th {\n",
       "        text-align: right;\n",
       "    }\n",
       "</style>\n",
       "<table border=\"1\" class=\"dataframe\">\n",
       "  <thead>\n",
       "    <tr style=\"text-align: right;\">\n",
       "      <th></th>\n",
       "      <th>0</th>\n",
       "      <th>1</th>\n",
       "      <th>2</th>\n",
       "      <th>3</th>\n",
       "      <th>y</th>\n",
       "    </tr>\n",
       "  </thead>\n",
       "  <tbody>\n",
       "    <tr>\n",
       "      <th>0</th>\n",
       "      <td>6.3</td>\n",
       "      <td>2.7</td>\n",
       "      <td>4.9</td>\n",
       "      <td>1.8</td>\n",
       "      <td>2</td>\n",
       "    </tr>\n",
       "    <tr>\n",
       "      <th>1</th>\n",
       "      <td>5.0</td>\n",
       "      <td>2.3</td>\n",
       "      <td>3.3</td>\n",
       "      <td>1.0</td>\n",
       "      <td>1</td>\n",
       "    </tr>\n",
       "    <tr>\n",
       "      <th>2</th>\n",
       "      <td>5.1</td>\n",
       "      <td>3.4</td>\n",
       "      <td>1.5</td>\n",
       "      <td>0.2</td>\n",
       "      <td>0</td>\n",
       "    </tr>\n",
       "    <tr>\n",
       "      <th>3</th>\n",
       "      <td>6.6</td>\n",
       "      <td>3.0</td>\n",
       "      <td>4.4</td>\n",
       "      <td>1.4</td>\n",
       "      <td>1</td>\n",
       "    </tr>\n",
       "    <tr>\n",
       "      <th>4</th>\n",
       "      <td>5.0</td>\n",
       "      <td>3.4</td>\n",
       "      <td>1.5</td>\n",
       "      <td>0.2</td>\n",
       "      <td>0</td>\n",
       "    </tr>\n",
       "  </tbody>\n",
       "</table>\n",
       "</div>"
      ],
      "text/plain": [
       "     0    1    2    3  y\n",
       "0  6.3  2.7  4.9  1.8  2\n",
       "1  5.0  2.3  3.3  1.0  1\n",
       "2  5.1  3.4  1.5  0.2  0\n",
       "3  6.6  3.0  4.4  1.4  1\n",
       "4  5.0  3.4  1.5  0.2  0"
      ]
     },
     "execution_count": 5,
     "metadata": {},
     "output_type": "execute_result"
    }
   ],
   "source": [
    "train = pd.DataFrame(X_train)\n",
    "train = train.assign(y=y_train)\n",
    "train.head()"
   ]
  },
  {
   "cell_type": "code",
   "execution_count": 6,
   "metadata": {},
   "outputs": [
    {
     "data": {
      "text/html": [
       "<div>\n",
       "<style scoped>\n",
       "    .dataframe tbody tr th:only-of-type {\n",
       "        vertical-align: middle;\n",
       "    }\n",
       "\n",
       "    .dataframe tbody tr th {\n",
       "        vertical-align: top;\n",
       "    }\n",
       "\n",
       "    .dataframe thead th {\n",
       "        text-align: right;\n",
       "    }\n",
       "</style>\n",
       "<table border=\"1\" class=\"dataframe\">\n",
       "  <thead>\n",
       "    <tr style=\"text-align: right;\">\n",
       "      <th></th>\n",
       "      <th>0</th>\n",
       "      <th>1</th>\n",
       "      <th>2</th>\n",
       "      <th>3</th>\n",
       "      <th>y</th>\n",
       "    </tr>\n",
       "  </thead>\n",
       "  <tbody>\n",
       "    <tr>\n",
       "      <th>0</th>\n",
       "      <td>6.3</td>\n",
       "      <td>3.3</td>\n",
       "      <td>4.7</td>\n",
       "      <td>1.6</td>\n",
       "      <td>1</td>\n",
       "    </tr>\n",
       "    <tr>\n",
       "      <th>1</th>\n",
       "      <td>6.7</td>\n",
       "      <td>3.0</td>\n",
       "      <td>5.2</td>\n",
       "      <td>2.3</td>\n",
       "      <td>2</td>\n",
       "    </tr>\n",
       "    <tr>\n",
       "      <th>2</th>\n",
       "      <td>5.1</td>\n",
       "      <td>3.5</td>\n",
       "      <td>1.4</td>\n",
       "      <td>0.2</td>\n",
       "      <td>0</td>\n",
       "    </tr>\n",
       "    <tr>\n",
       "      <th>3</th>\n",
       "      <td>4.9</td>\n",
       "      <td>3.1</td>\n",
       "      <td>1.5</td>\n",
       "      <td>0.2</td>\n",
       "      <td>0</td>\n",
       "    </tr>\n",
       "    <tr>\n",
       "      <th>4</th>\n",
       "      <td>4.8</td>\n",
       "      <td>3.4</td>\n",
       "      <td>1.9</td>\n",
       "      <td>0.2</td>\n",
       "      <td>0</td>\n",
       "    </tr>\n",
       "  </tbody>\n",
       "</table>\n",
       "</div>"
      ],
      "text/plain": [
       "     0    1    2    3  y\n",
       "0  6.3  3.3  4.7  1.6  1\n",
       "1  6.7  3.0  5.2  2.3  2\n",
       "2  5.1  3.5  1.4  0.2  0\n",
       "3  4.9  3.1  1.5  0.2  0\n",
       "4  4.8  3.4  1.9  0.2  0"
      ]
     },
     "execution_count": 6,
     "metadata": {},
     "output_type": "execute_result"
    }
   ],
   "source": [
    "test = pd.DataFrame(X_test)\n",
    "test = test.assign(y=y_test)\n",
    "test.head()"
   ]
  },
  {
   "cell_type": "markdown",
   "metadata": {},
   "source": [
    "## Training"
   ]
  },
  {
   "cell_type": "code",
   "execution_count": null,
   "metadata": {
    "collapsed": true
   },
   "outputs": [],
   "source": []
  },
  {
   "cell_type": "code",
   "execution_count": 7,
   "metadata": {
    "collapsed": true
   },
   "outputs": [],
   "source": [
    "max_depth=4\n",
    "bonsai = C45Tree(max_depth=max_depth)\n",
    "skl = DecisionTreeClassifier(max_depth=max_depth)"
   ]
  },
  {
   "cell_type": "code",
   "execution_count": 8,
   "metadata": {},
   "outputs": [
    {
     "data": {
      "text/plain": [
       "DecisionTreeClassifier(class_weight=None, criterion='gini', max_depth=4,\n",
       "            max_features=None, max_leaf_nodes=None,\n",
       "            min_impurity_decrease=0.0, min_impurity_split=None,\n",
       "            min_samples_leaf=1, min_samples_split=2,\n",
       "            min_weight_fraction_leaf=0.0, presort=False, random_state=None,\n",
       "            splitter='best')"
      ]
     },
     "execution_count": 8,
     "metadata": {},
     "output_type": "execute_result"
    }
   ],
   "source": [
    "bonsai.fit(X_train, y_train)\n",
    "skl.fit(X_train, y_train)"
   ]
  },
  {
   "cell_type": "code",
   "execution_count": 9,
   "metadata": {},
   "outputs": [
    {
     "data": {
      "text/plain": [
       "(array([0, 1, 2]), array([0., 1., 2.]))"
      ]
     },
     "execution_count": 9,
     "metadata": {},
     "output_type": "execute_result"
    }
   ],
   "source": [
    "skl.classes_, bonsai.classes_"
   ]
  },
  {
   "cell_type": "code",
   "execution_count": 10,
   "metadata": {
    "scrolled": true
   },
   "outputs": [
    {
     "data": {
      "text/plain": [
       "array([[0., 1., 0.],\n",
       "       [0., 0., 1.],\n",
       "       [1., 0., 0.],\n",
       "       [1., 0., 0.],\n",
       "       [1., 0., 0.],\n",
       "       [0., 1., 0.],\n",
       "       [0., 0., 1.],\n",
       "       [0., 1., 0.],\n",
       "       [0., 1., 0.],\n",
       "       [1., 0., 0.]])"
      ]
     },
     "execution_count": 10,
     "metadata": {},
     "output_type": "execute_result"
    }
   ],
   "source": [
    "skl.predict_proba(X_test)[:10]"
   ]
  },
  {
   "cell_type": "code",
   "execution_count": 28,
   "metadata": {
    "scrolled": true
   },
   "outputs": [
    {
     "ename": "TypeError",
     "evalue": "decision_path() takes exactly one argument (0 given)",
     "output_type": "error",
     "traceback": [
      "\u001b[0;31m---------------------------------------------------------------------------\u001b[0m",
      "\u001b[0;31mTypeError\u001b[0m                                 Traceback (most recent call last)",
      "\u001b[0;32m<ipython-input-28-13a69ae4872c>\u001b[0m in \u001b[0;36m<module>\u001b[0;34m\u001b[0m\n\u001b[0;32m----> 1\u001b[0;31m \u001b[0mskl\u001b[0m\u001b[0;34m.\u001b[0m\u001b[0mtree_\u001b[0m\u001b[0;34m.\u001b[0m\u001b[0mdecision_path\u001b[0m\u001b[0;34m(\u001b[0m\u001b[0;34m)\u001b[0m\u001b[0;34m\u001b[0m\u001b[0;34m\u001b[0m\u001b[0m\n\u001b[0m",
      "\u001b[0;31mTypeError\u001b[0m: decision_path() takes exactly one argument (0 given)"
     ]
    }
   ],
   "source": [
    "skl.tree_.decision_path()"
   ]
  },
  {
   "cell_type": "code",
   "execution_count": 12,
   "metadata": {},
   "outputs": [
    {
     "data": {
      "text/plain": [
       "array([1.03846154, 1.03846154, 1.03846154, 1.03846154, 1.03846154,\n",
       "       1.2       , 1.03846154, 1.03846154, 1.03846154, 0.        ,\n",
       "       1.03846154, 1.03846154, 1.03846154, 1.03846154, 1.03846154,\n",
       "       1.03846154, 1.03846154, 1.03846154, 1.03846154, 1.03846154,\n",
       "       1.03846154, 1.03846154, 1.03846154, 0.        , 1.03846154,\n",
       "       1.03846154, 1.03846154, 1.03846154, 1.03846154, 1.03846154])"
      ]
     },
     "execution_count": 12,
     "metadata": {},
     "output_type": "execute_result"
    }
   ],
   "source": [
    "bonsai.predict(X_test, output_type=\"response\") "
   ]
  },
  {
   "cell_type": "code",
   "execution_count": 13,
   "metadata": {},
   "outputs": [
    {
     "data": {
      "text/plain": [
       "(15, 3)"
      ]
     },
     "execution_count": 13,
     "metadata": {},
     "output_type": "execute_result"
    }
   ],
   "source": [
    "bonsai.get_counts().shape"
   ]
  },
  {
   "cell_type": "code",
   "execution_count": 14,
   "metadata": {},
   "outputs": [
    {
     "data": {
      "text/plain": [
       "[{'eqs': [{'svar': 3,\n",
       "    'sval': 2.3909090909090907,\n",
       "    'sidx': 112,\n",
       "    'op': '<',\n",
       "    'missing': 1},\n",
       "   {'svar': 2, 'sval': 1.1475, 'sidx': 53, 'op': '<', 'missing': 1}],\n",
       "  'i_start': 0,\n",
       "  'i_end': 1,\n",
       "  '_id': 'ROOT::112L::53L',\n",
       "  'n_samples': 2.0,\n",
       "  'y': 0.0,\n",
       "  'depth': 2,\n",
       "  'y_lst': [1.0087719298245614, 0.0],\n",
       "  'is_leaf': True,\n",
       "  'index': 0},\n",
       " {'eqs': [{'svar': 3,\n",
       "    'sval': 2.3909090909090907,\n",
       "    'sidx': 112,\n",
       "    'op': '>=',\n",
       "    'missing': 0},\n",
       "   {'svar': 2,\n",
       "    'sval': 5.867499999999999,\n",
       "    'sidx': 85,\n",
       "    'op': '>=',\n",
       "    'missing': 0}],\n",
       "  'i_start': 118,\n",
       "  'i_end': 120,\n",
       "  '_id': 'ROOT::112R::85R',\n",
       "  'n_samples': 2.0,\n",
       "  'y': 2.0,\n",
       "  'depth': 2,\n",
       "  'y_lst': [2.0, 2.0],\n",
       "  'is_leaf': True,\n",
       "  'index': 1},\n",
       " {'eqs': [{'svar': 3,\n",
       "    'sval': 2.3909090909090907,\n",
       "    'sidx': 112,\n",
       "    'op': '<',\n",
       "    'missing': 1},\n",
       "   {'svar': 2, 'sval': 1.1475, 'sidx': 53, 'op': '>=', 'missing': 0},\n",
       "   {'svar': 1,\n",
       "    'sval': 2.3000000000000003,\n",
       "    'sidx': 34,\n",
       "    'op': '<',\n",
       "    'missing': 1},\n",
       "   {'svar': 2,\n",
       "    'sval': 3.3599999999999994,\n",
       "    'sidx': 68,\n",
       "    'op': '<',\n",
       "    'missing': 1}],\n",
       "  'i_start': 1,\n",
       "  'i_end': 3,\n",
       "  '_id': 'ROOT::112L::53R::34L::68L',\n",
       "  'n_samples': 2.0,\n",
       "  'y': 0.5,\n",
       "  'depth': 4,\n",
       "  'y_lst': [1.0087719298245614, 1.0267857142857142, 1.25, 0.5],\n",
       "  'is_leaf': True,\n",
       "  'index': 2},\n",
       " {'eqs': [{'svar': 3,\n",
       "    'sval': 2.3909090909090907,\n",
       "    'sidx': 112,\n",
       "    'op': '<',\n",
       "    'missing': 1},\n",
       "   {'svar': 2, 'sval': 1.1475, 'sidx': 53, 'op': '>=', 'missing': 0},\n",
       "   {'svar': 1,\n",
       "    'sval': 2.3000000000000003,\n",
       "    'sidx': 34,\n",
       "    'op': '<',\n",
       "    'missing': 1},\n",
       "   {'svar': 2,\n",
       "    'sval': 3.3599999999999994,\n",
       "    'sidx': 68,\n",
       "    'op': '>=',\n",
       "    'missing': 0}],\n",
       "  'i_start': 3,\n",
       "  'i_end': 8,\n",
       "  '_id': 'ROOT::112L::53R::34L::68R',\n",
       "  'n_samples': 5.0,\n",
       "  'y': 1.2,\n",
       "  'depth': 4,\n",
       "  'y_lst': [1.0087719298245614, 1.0267857142857142, 1.25, 1.2],\n",
       "  'is_leaf': True,\n",
       "  'index': 3},\n",
       " {'eqs': [{'svar': 3,\n",
       "    'sval': 2.3909090909090907,\n",
       "    'sidx': 112,\n",
       "    'op': '<',\n",
       "    'missing': 1},\n",
       "   {'svar': 2, 'sval': 1.1475, 'sidx': 53, 'op': '>=', 'missing': 0},\n",
       "   {'svar': 1,\n",
       "    'sval': 2.3000000000000003,\n",
       "    'sidx': 34,\n",
       "    'op': '>=',\n",
       "    'missing': 0},\n",
       "   {'svar': 0, 'sval': 4.506060606060607, 'sidx': 0, 'op': '<', 'missing': 1}],\n",
       "  'i_start': 8,\n",
       "  'i_end': 10,\n",
       "  '_id': 'ROOT::112L::53R::34R::0L',\n",
       "  'n_samples': 2.0,\n",
       "  'y': 0.0,\n",
       "  'depth': 4,\n",
       "  'y_lst': [1.0087719298245614, 1.0267857142857142, 1.0091743119266054, 0.0],\n",
       "  'is_leaf': True,\n",
       "  'index': 4},\n",
       " {'eqs': [{'svar': 3,\n",
       "    'sval': 2.3909090909090907,\n",
       "    'sidx': 112,\n",
       "    'op': '<',\n",
       "    'missing': 1},\n",
       "   {'svar': 2, 'sval': 1.1475, 'sidx': 53, 'op': '>=', 'missing': 0},\n",
       "   {'svar': 1,\n",
       "    'sval': 2.3000000000000003,\n",
       "    'sidx': 34,\n",
       "    'op': '>=',\n",
       "    'missing': 0},\n",
       "   {'svar': 0,\n",
       "    'sval': 4.506060606060607,\n",
       "    'sidx': 0,\n",
       "    'op': '>=',\n",
       "    'missing': 0}],\n",
       "  'i_start': 10,\n",
       "  'i_end': 114,\n",
       "  '_id': 'ROOT::112L::53R::34R::0R',\n",
       "  'n_samples': 104.0,\n",
       "  'y': 1.0384615384615385,\n",
       "  'depth': 4,\n",
       "  'y_lst': [1.0087719298245614,\n",
       "   1.0267857142857142,\n",
       "   1.0091743119266054,\n",
       "   1.0384615384615385],\n",
       "  'is_leaf': True,\n",
       "  'index': 5},\n",
       " {'eqs': [{'svar': 3,\n",
       "    'sval': 2.3909090909090907,\n",
       "    'sidx': 112,\n",
       "    'op': '>=',\n",
       "    'missing': 0},\n",
       "   {'svar': 2, 'sval': 5.867499999999999, 'sidx': 85, 'op': '<', 'missing': 1},\n",
       "   {'svar': 1,\n",
       "    'sval': 3.300000000000001,\n",
       "    'sidx': 44,\n",
       "    'op': '<',\n",
       "    'missing': 1}],\n",
       "  'i_start': 114,\n",
       "  'i_end': 117,\n",
       "  '_id': 'ROOT::112R::85L::44L',\n",
       "  'n_samples': 2.0,\n",
       "  'y': 2.0,\n",
       "  'depth': 3,\n",
       "  'y_lst': [2.0, 2.0, 2.0],\n",
       "  'is_leaf': True,\n",
       "  'index': 6},\n",
       " {'eqs': [{'svar': 3,\n",
       "    'sval': 2.3909090909090907,\n",
       "    'sidx': 112,\n",
       "    'op': '>=',\n",
       "    'missing': 0},\n",
       "   {'svar': 2, 'sval': 5.867499999999999, 'sidx': 85, 'op': '<', 'missing': 1},\n",
       "   {'svar': 1,\n",
       "    'sval': 3.300000000000001,\n",
       "    'sidx': 44,\n",
       "    'op': '>=',\n",
       "    'missing': 0}],\n",
       "  'i_start': 117,\n",
       "  'i_end': 118,\n",
       "  '_id': 'ROOT::112R::85L::44R',\n",
       "  'n_samples': 2.0,\n",
       "  'y': 2.0,\n",
       "  'depth': 3,\n",
       "  'y_lst': [2.0, 2.0, 2.0],\n",
       "  'is_leaf': True,\n",
       "  'index': 7}]"
      ]
     },
     "execution_count": 14,
     "metadata": {},
     "output_type": "execute_result"
    }
   ],
   "source": [
    "bonsai.leaves"
   ]
  },
  {
   "cell_type": "code",
   "execution_count": 15,
   "metadata": {},
   "outputs": [
    {
     "data": {
      "text/plain": [
       "8"
      ]
     },
     "execution_count": 15,
     "metadata": {},
     "output_type": "execute_result"
    }
   ],
   "source": [
    "len(bonsai.leaves)"
   ]
  },
  {
   "cell_type": "code",
   "execution_count": 16,
   "metadata": {},
   "outputs": [
    {
     "data": {
      "text/plain": [
       "4"
      ]
     },
     "execution_count": 16,
     "metadata": {},
     "output_type": "execute_result"
    }
   ],
   "source": [
    "skl.tree_.max_depth"
   ]
  },
  {
   "cell_type": "code",
   "execution_count": 17,
   "metadata": {},
   "outputs": [
    {
     "ename": "NameError",
     "evalue": "name 'tree' is not defined",
     "output_type": "error",
     "traceback": [
      "\u001b[0;31m---------------------------------------------------------------------------\u001b[0m",
      "\u001b[0;31mNameError\u001b[0m                                 Traceback (most recent call last)",
      "\u001b[0;32m<ipython-input-17-a06f47c65519>\u001b[0m in \u001b[0;36m<module>\u001b[0;34m\u001b[0m\n\u001b[0;32m----> 1\u001b[0;31m \u001b[0mtree\u001b[0m\u001b[0;34m.\u001b[0m\u001b[0mclasses_\u001b[0m\u001b[0;34m\u001b[0m\u001b[0;34m\u001b[0m\u001b[0m\n\u001b[0m",
      "\u001b[0;31mNameError\u001b[0m: name 'tree' is not defined"
     ]
    }
   ],
   "source": [
    "tree.classes_"
   ]
  },
  {
   "cell_type": "code",
   "execution_count": null,
   "metadata": {},
   "outputs": [],
   "source": [
    "tree.discrete_probabilities"
   ]
  },
  {
   "cell_type": "code",
   "execution_count": null,
   "metadata": {
    "collapsed": true
   },
   "outputs": [],
   "source": []
  },
  {
   "cell_type": "code",
   "execution_count": null,
   "metadata": {
    "collapsed": true
   },
   "outputs": [],
   "source": []
  },
  {
   "cell_type": "code",
   "execution_count": null,
   "metadata": {},
   "outputs": [],
   "source": [
    "class_index_dict = {v:i for i,v in enumerate(tree.classes_)}\n",
    "class_index_dict"
   ]
  },
  {
   "cell_type": "code",
   "execution_count": null,
   "metadata": {},
   "outputs": [],
   "source": [
    "for proba in tree.discrete_probabilities:\n",
    "    new_proba = np.zeros(3)\n",
    "    \n",
    "    print(proba)\n",
    "    for t in proba:\n",
    "        print(t)\n",
    "        print(t[0])\n",
    "        class_idx = class_index_dict[t[0]]\n",
    "        new_proba[class_idx] = t[1]\n",
    "    \n",
    "    "
   ]
  },
  {
   "cell_type": "code",
   "execution_count": null,
   "metadata": {},
   "outputs": [],
   "source": [
    "new_proba"
   ]
  },
  {
   "cell_type": "code",
   "execution_count": null,
   "metadata": {
    "collapsed": true
   },
   "outputs": [],
   "source": []
  },
  {
   "cell_type": "code",
   "execution_count": null,
   "metadata": {
    "collapsed": true
   },
   "outputs": [],
   "source": []
  },
  {
   "cell_type": "code",
   "execution_count": null,
   "metadata": {
    "collapsed": true
   },
   "outputs": [],
   "source": []
  },
  {
   "cell_type": "markdown",
   "metadata": {},
   "source": [
    "# Sandbox"
   ]
  },
  {
   "cell_type": "code",
   "execution_count": null,
   "metadata": {},
   "outputs": [],
   "source": [
    "a = np.array([0, 3, 0, 1, 0, 1, 2, 1, 0, 0, 0, 0, 1, 3, 4])\n",
    "unique, counts = np.unique(a, return_counts=True)\n"
   ]
  },
  {
   "cell_type": "code",
   "execution_count": null,
   "metadata": {},
   "outputs": [],
   "source": [
    "list(zip(unique, counts))"
   ]
  }
 ],
 "metadata": {
  "kernelspec": {
   "display_name": "Python [conda env:discovery]",
   "language": "python",
   "name": "conda-env-discovery-py"
  },
  "language_info": {
   "codemirror_mode": {
    "name": "ipython",
    "version": 3
   },
   "file_extension": ".py",
   "mimetype": "text/x-python",
   "name": "python",
   "nbconvert_exporter": "python",
   "pygments_lexer": "ipython3",
   "version": "3.7.2"
  },
  "toc": {
   "nav_menu": {},
   "number_sections": true,
   "sideBar": true,
   "skip_h1_title": true,
   "toc_cell": false,
   "toc_position": {},
   "toc_section_display": "block",
   "toc_window_display": false
  }
 },
 "nbformat": 4,
 "nbformat_minor": 2
}
