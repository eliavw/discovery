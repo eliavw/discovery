{
 "cells": [
  {
   "cell_type": "markdown",
   "metadata": {},
   "source": [
    "# Sklearn Score Samples\n",
    "\n",
    "Stupid bonsai does not do classification. Fuck that shit."
   ]
  },
  {
   "cell_type": "markdown",
   "metadata": {},
   "source": [
    "## Imports"
   ]
  },
  {
   "cell_type": "code",
   "execution_count": 1,
   "metadata": {
    "collapsed": true
   },
   "outputs": [],
   "source": [
    "# Basic imports\n",
    "import sklearn\n",
    "import numpy as np\n",
    "import pandas as pd\n",
    "import os\n",
    "import sys\n",
    "\n",
    "\n",
    "from os.path import dirname\n",
    "from sklearn.tree import *\n",
    "from sklearn.datasets import load_iris,load_boston\n",
    "from sklearn.metrics import f1_score, accuracy_score, classification_report\n",
    "from sklearn.model_selection import train_test_split"
   ]
  },
  {
   "cell_type": "code",
   "execution_count": 2,
   "metadata": {
    "collapsed": true
   },
   "outputs": [],
   "source": [
    "note_dir = os.getcwd()\n",
    "root_dir = dirname(note_dir)\n",
    "src_dir = os.path.join(root_dir, 'src')\n",
    "\n",
    "sys.path.extend([src_dir])"
   ]
  },
  {
   "cell_type": "code",
   "execution_count": 3,
   "metadata": {
    "collapsed": true
   },
   "outputs": [],
   "source": [
    "import palmbomen"
   ]
  },
  {
   "cell_type": "markdown",
   "metadata": {},
   "source": [
    "## Dataset"
   ]
  },
  {
   "cell_type": "code",
   "execution_count": 4,
   "metadata": {
    "collapsed": true
   },
   "outputs": [],
   "source": [
    "iris = load_iris()\n",
    "X, y = iris['data'], iris['target']\n",
    "X_train, X_test, y_train, y_test = train_test_split(X, y, test_size=0.2)"
   ]
  },
  {
   "cell_type": "code",
   "execution_count": 5,
   "metadata": {},
   "outputs": [
    {
     "data": {
      "text/html": [
       "<div>\n",
       "<style scoped>\n",
       "    .dataframe tbody tr th:only-of-type {\n",
       "        vertical-align: middle;\n",
       "    }\n",
       "\n",
       "    .dataframe tbody tr th {\n",
       "        vertical-align: top;\n",
       "    }\n",
       "\n",
       "    .dataframe thead th {\n",
       "        text-align: right;\n",
       "    }\n",
       "</style>\n",
       "<table border=\"1\" class=\"dataframe\">\n",
       "  <thead>\n",
       "    <tr style=\"text-align: right;\">\n",
       "      <th></th>\n",
       "      <th>0</th>\n",
       "      <th>1</th>\n",
       "      <th>2</th>\n",
       "      <th>3</th>\n",
       "      <th>y</th>\n",
       "      <th>y2</th>\n",
       "    </tr>\n",
       "  </thead>\n",
       "  <tbody>\n",
       "    <tr>\n",
       "      <th>0</th>\n",
       "      <td>5.8</td>\n",
       "      <td>2.7</td>\n",
       "      <td>4.1</td>\n",
       "      <td>1.0</td>\n",
       "      <td>1</td>\n",
       "      <td>1</td>\n",
       "    </tr>\n",
       "    <tr>\n",
       "      <th>1</th>\n",
       "      <td>6.3</td>\n",
       "      <td>3.3</td>\n",
       "      <td>4.7</td>\n",
       "      <td>1.6</td>\n",
       "      <td>1</td>\n",
       "      <td>1</td>\n",
       "    </tr>\n",
       "    <tr>\n",
       "      <th>2</th>\n",
       "      <td>5.1</td>\n",
       "      <td>3.4</td>\n",
       "      <td>1.5</td>\n",
       "      <td>0.2</td>\n",
       "      <td>0</td>\n",
       "      <td>1</td>\n",
       "    </tr>\n",
       "    <tr>\n",
       "      <th>3</th>\n",
       "      <td>6.7</td>\n",
       "      <td>3.3</td>\n",
       "      <td>5.7</td>\n",
       "      <td>2.5</td>\n",
       "      <td>2</td>\n",
       "      <td>0</td>\n",
       "    </tr>\n",
       "    <tr>\n",
       "      <th>4</th>\n",
       "      <td>6.0</td>\n",
       "      <td>2.2</td>\n",
       "      <td>5.0</td>\n",
       "      <td>1.5</td>\n",
       "      <td>2</td>\n",
       "      <td>1</td>\n",
       "    </tr>\n",
       "  </tbody>\n",
       "</table>\n",
       "</div>"
      ],
      "text/plain": [
       "     0    1    2    3  y  y2\n",
       "0  5.8  2.7  4.1  1.0  1   1\n",
       "1  6.3  3.3  4.7  1.6  1   1\n",
       "2  5.1  3.4  1.5  0.2  0   1\n",
       "3  6.7  3.3  5.7  2.5  2   0\n",
       "4  6.0  2.2  5.0  1.5  2   1"
      ]
     },
     "execution_count": 5,
     "metadata": {},
     "output_type": "execute_result"
    }
   ],
   "source": [
    "train = pd.DataFrame(X_train)\n",
    "train = train.assign(y=y_train)\n",
    "np.random.shuffle(y_train)\n",
    "train = train.assign(y2=y_train)\n",
    "train.head()"
   ]
  },
  {
   "cell_type": "code",
   "execution_count": 6,
   "metadata": {},
   "outputs": [
    {
     "data": {
      "text/html": [
       "<div>\n",
       "<style scoped>\n",
       "    .dataframe tbody tr th:only-of-type {\n",
       "        vertical-align: middle;\n",
       "    }\n",
       "\n",
       "    .dataframe tbody tr th {\n",
       "        vertical-align: top;\n",
       "    }\n",
       "\n",
       "    .dataframe thead th {\n",
       "        text-align: right;\n",
       "    }\n",
       "</style>\n",
       "<table border=\"1\" class=\"dataframe\">\n",
       "  <thead>\n",
       "    <tr style=\"text-align: right;\">\n",
       "      <th></th>\n",
       "      <th>0</th>\n",
       "      <th>1</th>\n",
       "      <th>2</th>\n",
       "      <th>3</th>\n",
       "      <th>y</th>\n",
       "      <th>y2</th>\n",
       "    </tr>\n",
       "  </thead>\n",
       "  <tbody>\n",
       "    <tr>\n",
       "      <th>0</th>\n",
       "      <td>5.5</td>\n",
       "      <td>3.5</td>\n",
       "      <td>1.3</td>\n",
       "      <td>0.2</td>\n",
       "      <td>0</td>\n",
       "      <td>2</td>\n",
       "    </tr>\n",
       "    <tr>\n",
       "      <th>1</th>\n",
       "      <td>5.0</td>\n",
       "      <td>3.5</td>\n",
       "      <td>1.6</td>\n",
       "      <td>0.6</td>\n",
       "      <td>0</td>\n",
       "      <td>2</td>\n",
       "    </tr>\n",
       "    <tr>\n",
       "      <th>2</th>\n",
       "      <td>5.1</td>\n",
       "      <td>3.8</td>\n",
       "      <td>1.6</td>\n",
       "      <td>0.2</td>\n",
       "      <td>0</td>\n",
       "      <td>0</td>\n",
       "    </tr>\n",
       "    <tr>\n",
       "      <th>3</th>\n",
       "      <td>6.2</td>\n",
       "      <td>2.9</td>\n",
       "      <td>4.3</td>\n",
       "      <td>1.3</td>\n",
       "      <td>1</td>\n",
       "      <td>0</td>\n",
       "    </tr>\n",
       "    <tr>\n",
       "      <th>4</th>\n",
       "      <td>5.4</td>\n",
       "      <td>3.4</td>\n",
       "      <td>1.5</td>\n",
       "      <td>0.4</td>\n",
       "      <td>0</td>\n",
       "      <td>1</td>\n",
       "    </tr>\n",
       "  </tbody>\n",
       "</table>\n",
       "</div>"
      ],
      "text/plain": [
       "     0    1    2    3  y  y2\n",
       "0  5.5  3.5  1.3  0.2  0   2\n",
       "1  5.0  3.5  1.6  0.6  0   2\n",
       "2  5.1  3.8  1.6  0.2  0   0\n",
       "3  6.2  2.9  4.3  1.3  1   0\n",
       "4  5.4  3.4  1.5  0.4  0   1"
      ]
     },
     "execution_count": 6,
     "metadata": {},
     "output_type": "execute_result"
    }
   ],
   "source": [
    "test = pd.DataFrame(X_test)\n",
    "test = test.assign(y=y_test)\n",
    "np.random.shuffle(y_test)\n",
    "test = test.assign(y2=y_test)\n",
    "test.head()"
   ]
  },
  {
   "cell_type": "code",
   "execution_count": 7,
   "metadata": {
    "collapsed": true
   },
   "outputs": [],
   "source": [
    "X_train, y_train = train.values[:, :-3], train.values[:, -2:].astype(int)\n",
    "X_test, y_test = test.values[:, :-3], test.values[:, -2:].astype(int)"
   ]
  },
  {
   "cell_type": "code",
   "execution_count": 8,
   "metadata": {},
   "outputs": [
    {
     "data": {
      "text/plain": [
       "(30, 2)"
      ]
     },
     "execution_count": 8,
     "metadata": {},
     "output_type": "execute_result"
    }
   ],
   "source": [
    "y_test.shape"
   ]
  },
  {
   "cell_type": "markdown",
   "metadata": {
    "collapsed": true
   },
   "source": [
    "## Palmboom 01\n",
    "\n",
    "Ok its not so orderly anymore, but almost up and running now."
   ]
  },
  {
   "cell_type": "code",
   "execution_count": 9,
   "metadata": {
    "collapsed": true
   },
   "outputs": [],
   "source": [
    "cboom = palmbomen.PalmboomClassifier(max_depth=3)"
   ]
  },
  {
   "cell_type": "code",
   "execution_count": 10,
   "metadata": {},
   "outputs": [
    {
     "data": {
      "text/plain": [
       "PalmboomClassifier()"
      ]
     },
     "execution_count": 10,
     "metadata": {},
     "output_type": "execute_result"
    }
   ],
   "source": [
    "cboom.fit(X_train, y_train)"
   ]
  },
  {
   "cell_type": "code",
   "execution_count": 11,
   "metadata": {},
   "outputs": [
    {
     "data": {
      "text/plain": [
       "[array([[1., 0., 0.],\n",
       "        [1., 0., 0.],\n",
       "        [1., 0., 0.],\n",
       "        [0., 1., 0.],\n",
       "        [1., 0., 0.]]), array([[0.22580645, 0.41935484, 0.35483871],\n",
       "        [0.22580645, 0.41935484, 0.35483871],\n",
       "        [0.22580645, 0.41935484, 0.35483871],\n",
       "        [0.4137931 , 0.4137931 , 0.17241379],\n",
       "        [0.22580645, 0.41935484, 0.35483871]])]"
      ]
     },
     "execution_count": 11,
     "metadata": {},
     "output_type": "execute_result"
    }
   ],
   "source": [
    "cboom.predict_proba(X_test[:5])"
   ]
  },
  {
   "cell_type": "code",
   "execution_count": 12,
   "metadata": {},
   "outputs": [
    {
     "data": {
      "text/plain": [
       "array([[1.        , 0.35483871],\n",
       "       [1.        , 0.35483871],\n",
       "       [1.        , 0.22580645],\n",
       "       [1.        , 0.4137931 ],\n",
       "       [1.        , 0.41935484]])"
      ]
     },
     "execution_count": 12,
     "metadata": {},
     "output_type": "execute_result"
    }
   ],
   "source": [
    "cboom.score_samples(X_test[:5], y_test[:5])"
   ]
  },
  {
   "cell_type": "code",
   "execution_count": null,
   "metadata": {
    "collapsed": true
   },
   "outputs": [],
   "source": []
  },
  {
   "cell_type": "code",
   "execution_count": 13,
   "metadata": {},
   "outputs": [
    {
     "data": {
      "text/plain": [
       "array([[0, 2],\n",
       "       [0, 2],\n",
       "       [0, 0],\n",
       "       [1, 0],\n",
       "       [0, 1]])"
      ]
     },
     "execution_count": 13,
     "metadata": {},
     "output_type": "execute_result"
    }
   ],
   "source": [
    "y_test[:5]"
   ]
  },
  {
   "cell_type": "markdown",
   "metadata": {},
   "source": [
    "# Sandbox"
   ]
  },
  {
   "cell_type": "code",
   "execution_count": 14,
   "metadata": {
    "collapsed": true
   },
   "outputs": [],
   "source": [
    "max_depth = 2\n",
    "estimator = DecisionTreeClassifier(max_depth=max_depth)"
   ]
  },
  {
   "cell_type": "code",
   "execution_count": 15,
   "metadata": {},
   "outputs": [
    {
     "data": {
      "text/plain": [
       "DecisionTreeClassifier(class_weight=None, criterion='gini', max_depth=2,\n",
       "            max_features=None, max_leaf_nodes=None,\n",
       "            min_impurity_decrease=0.0, min_impurity_split=None,\n",
       "            min_samples_leaf=1, min_samples_split=2,\n",
       "            min_weight_fraction_leaf=0.0, presort=False, random_state=None,\n",
       "            splitter='best')"
      ]
     },
     "execution_count": 15,
     "metadata": {},
     "output_type": "execute_result"
    }
   ],
   "source": [
    "estimator.fit(X_train, y_train)"
   ]
  },
  {
   "cell_type": "code",
   "execution_count": 16,
   "metadata": {
    "collapsed": true
   },
   "outputs": [],
   "source": [
    "n_nodes = estimator.tree_.node_count\n",
    "children_left = estimator.tree_.children_left\n",
    "children_right = estimator.tree_.children_right\n",
    "feature = estimator.tree_.feature\n",
    "threshold = estimator.tree_.threshold"
   ]
  },
  {
   "cell_type": "code",
   "execution_count": 17,
   "metadata": {},
   "outputs": [
    {
     "data": {
      "text/plain": [
       "7"
      ]
     },
     "execution_count": 17,
     "metadata": {},
     "output_type": "execute_result"
    }
   ],
   "source": [
    "n_nodes"
   ]
  },
  {
   "cell_type": "markdown",
   "metadata": {},
   "source": [
    "It is pretty easy to get the paths reached by each sample through the tree"
   ]
  },
  {
   "cell_type": "code",
   "execution_count": 18,
   "metadata": {
    "collapsed": true
   },
   "outputs": [],
   "source": [
    "node_indicator = estimator.decision_path(X_test)"
   ]
  },
  {
   "cell_type": "code",
   "execution_count": null,
   "metadata": {
    "collapsed": true
   },
   "outputs": [],
   "source": []
  },
  {
   "cell_type": "markdown",
   "metadata": {},
   "source": [
    "And also to get the leaf ID"
   ]
  },
  {
   "cell_type": "code",
   "execution_count": 19,
   "metadata": {},
   "outputs": [
    {
     "name": "stdout",
     "output_type": "stream",
     "text": [
      "[[33.  0.  0.]\n",
      " [ 7. 13. 13.]]\n",
      "[[33.  0.  0.]\n",
      " [ 7. 13. 13.]]\n",
      "[[33.  0.  0.]\n",
      " [ 7. 13. 13.]]\n",
      "[[ 0. 36.  0.]\n",
      " [12. 15.  9.]]\n",
      "[[33.  0.  0.]\n",
      " [ 7. 13. 13.]]\n",
      "[[33.  0.  0.]\n",
      " [ 7. 13. 13.]]\n",
      "[[ 0.  6. 43.]\n",
      " [14. 14. 21.]]\n",
      "[[33.  0.  0.]\n",
      " [ 7. 13. 13.]]\n",
      "[[33.  0.  0.]\n",
      " [ 7. 13. 13.]]\n",
      "[[ 0. 36.  0.]\n",
      " [12. 15.  9.]]\n"
     ]
    }
   ],
   "source": [
    "leaf_ids = estimator.apply(X_test)\n",
    "for x in leaf_ids[:10]:\n",
    "    print(estimator.tree_.value[x])"
   ]
  },
  {
   "cell_type": "code",
   "execution_count": 20,
   "metadata": {},
   "outputs": [
    {
     "data": {
      "text/plain": [
       "[array([[1.        , 0.        , 0.        ],\n",
       "        [1.        , 0.        , 0.        ],\n",
       "        [1.        , 0.        , 0.        ],\n",
       "        [0.        , 1.        , 0.        ],\n",
       "        [1.        , 0.        , 0.        ],\n",
       "        [1.        , 0.        , 0.        ],\n",
       "        [0.        , 0.12244898, 0.87755102],\n",
       "        [1.        , 0.        , 0.        ],\n",
       "        [1.        , 0.        , 0.        ],\n",
       "        [0.        , 1.        , 0.        ],\n",
       "        [1.        , 0.        , 0.        ],\n",
       "        [1.        , 0.        , 0.        ],\n",
       "        [0.        , 0.12244898, 0.87755102],\n",
       "        [0.        , 0.12244898, 0.87755102],\n",
       "        [1.        , 0.        , 0.        ],\n",
       "        [1.        , 0.        , 0.        ],\n",
       "        [0.        , 1.        , 0.        ],\n",
       "        [0.        , 1.        , 0.        ],\n",
       "        [0.        , 1.        , 0.        ],\n",
       "        [0.        , 0.12244898, 0.87755102],\n",
       "        [0.        , 0.12244898, 0.87755102],\n",
       "        [0.        , 1.        , 0.        ],\n",
       "        [1.        , 0.        , 0.        ],\n",
       "        [0.        , 1.        , 0.        ],\n",
       "        [1.        , 0.        , 0.        ],\n",
       "        [0.        , 1.        , 0.        ],\n",
       "        [0.        , 1.        , 0.        ],\n",
       "        [1.        , 0.        , 0.        ],\n",
       "        [1.        , 0.        , 0.        ],\n",
       "        [0.        , 0.12244898, 0.87755102]]),\n",
       " array([[0.21212121, 0.39393939, 0.39393939],\n",
       "        [0.21212121, 0.39393939, 0.39393939],\n",
       "        [0.21212121, 0.39393939, 0.39393939],\n",
       "        [0.33333333, 0.41666667, 0.25      ],\n",
       "        [0.21212121, 0.39393939, 0.39393939],\n",
       "        [0.21212121, 0.39393939, 0.39393939],\n",
       "        [0.28571429, 0.28571429, 0.42857143],\n",
       "        [0.21212121, 0.39393939, 0.39393939],\n",
       "        [0.21212121, 0.39393939, 0.39393939],\n",
       "        [0.33333333, 0.41666667, 0.25      ],\n",
       "        [0.21212121, 0.39393939, 0.39393939],\n",
       "        [0.21212121, 0.39393939, 0.39393939],\n",
       "        [0.28571429, 0.28571429, 0.42857143],\n",
       "        [0.28571429, 0.28571429, 0.42857143],\n",
       "        [0.21212121, 0.39393939, 0.39393939],\n",
       "        [0.21212121, 0.39393939, 0.39393939],\n",
       "        [0.33333333, 0.41666667, 0.25      ],\n",
       "        [0.33333333, 0.41666667, 0.25      ],\n",
       "        [0.33333333, 0.41666667, 0.25      ],\n",
       "        [0.28571429, 0.28571429, 0.42857143],\n",
       "        [0.28571429, 0.28571429, 0.42857143],\n",
       "        [0.33333333, 0.41666667, 0.25      ],\n",
       "        [0.21212121, 0.39393939, 0.39393939],\n",
       "        [0.33333333, 0.41666667, 0.25      ],\n",
       "        [0.21212121, 0.39393939, 0.39393939],\n",
       "        [0.33333333, 0.41666667, 0.25      ],\n",
       "        [0.33333333, 0.41666667, 0.25      ],\n",
       "        [0.21212121, 0.39393939, 0.39393939],\n",
       "        [0.21212121, 0.39393939, 0.39393939],\n",
       "        [0.28571429, 0.28571429, 0.42857143]])]"
      ]
     },
     "execution_count": 20,
     "metadata": {},
     "output_type": "execute_result"
    }
   ],
   "source": [
    "estimator.predict_proba(X_test)"
   ]
  },
  {
   "cell_type": "code",
   "execution_count": null,
   "metadata": {
    "collapsed": true
   },
   "outputs": [],
   "source": []
  },
  {
   "cell_type": "markdown",
   "metadata": {},
   "source": [
    "## Regression"
   ]
  },
  {
   "cell_type": "code",
   "execution_count": 21,
   "metadata": {},
   "outputs": [
    {
     "data": {
      "text/html": [
       "<div>\n",
       "<style scoped>\n",
       "    .dataframe tbody tr th:only-of-type {\n",
       "        vertical-align: middle;\n",
       "    }\n",
       "\n",
       "    .dataframe tbody tr th {\n",
       "        vertical-align: top;\n",
       "    }\n",
       "\n",
       "    .dataframe thead th {\n",
       "        text-align: right;\n",
       "    }\n",
       "</style>\n",
       "<table border=\"1\" class=\"dataframe\">\n",
       "  <thead>\n",
       "    <tr style=\"text-align: right;\">\n",
       "      <th></th>\n",
       "      <th>0</th>\n",
       "      <th>1</th>\n",
       "      <th>2</th>\n",
       "      <th>3</th>\n",
       "      <th>4</th>\n",
       "      <th>5</th>\n",
       "      <th>6</th>\n",
       "      <th>7</th>\n",
       "      <th>8</th>\n",
       "      <th>9</th>\n",
       "      <th>10</th>\n",
       "      <th>11</th>\n",
       "      <th>12</th>\n",
       "      <th>y1</th>\n",
       "      <th>y2</th>\n",
       "    </tr>\n",
       "  </thead>\n",
       "  <tbody>\n",
       "    <tr>\n",
       "      <th>0</th>\n",
       "      <td>0.00632</td>\n",
       "      <td>18.0</td>\n",
       "      <td>2.31</td>\n",
       "      <td>0.0</td>\n",
       "      <td>0.538</td>\n",
       "      <td>6.575</td>\n",
       "      <td>65.2</td>\n",
       "      <td>4.0900</td>\n",
       "      <td>1.0</td>\n",
       "      <td>296.0</td>\n",
       "      <td>15.3</td>\n",
       "      <td>396.90</td>\n",
       "      <td>4.98</td>\n",
       "      <td>24.0</td>\n",
       "      <td>15.4</td>\n",
       "    </tr>\n",
       "    <tr>\n",
       "      <th>1</th>\n",
       "      <td>0.02731</td>\n",
       "      <td>0.0</td>\n",
       "      <td>7.07</td>\n",
       "      <td>0.0</td>\n",
       "      <td>0.469</td>\n",
       "      <td>6.421</td>\n",
       "      <td>78.9</td>\n",
       "      <td>4.9671</td>\n",
       "      <td>2.0</td>\n",
       "      <td>242.0</td>\n",
       "      <td>17.8</td>\n",
       "      <td>396.90</td>\n",
       "      <td>9.14</td>\n",
       "      <td>21.6</td>\n",
       "      <td>24.0</td>\n",
       "    </tr>\n",
       "    <tr>\n",
       "      <th>2</th>\n",
       "      <td>0.02729</td>\n",
       "      <td>0.0</td>\n",
       "      <td>7.07</td>\n",
       "      <td>0.0</td>\n",
       "      <td>0.469</td>\n",
       "      <td>7.185</td>\n",
       "      <td>61.1</td>\n",
       "      <td>4.9671</td>\n",
       "      <td>2.0</td>\n",
       "      <td>242.0</td>\n",
       "      <td>17.8</td>\n",
       "      <td>392.83</td>\n",
       "      <td>4.03</td>\n",
       "      <td>34.7</td>\n",
       "      <td>11.8</td>\n",
       "    </tr>\n",
       "    <tr>\n",
       "      <th>3</th>\n",
       "      <td>0.03237</td>\n",
       "      <td>0.0</td>\n",
       "      <td>2.18</td>\n",
       "      <td>0.0</td>\n",
       "      <td>0.458</td>\n",
       "      <td>6.998</td>\n",
       "      <td>45.8</td>\n",
       "      <td>6.0622</td>\n",
       "      <td>3.0</td>\n",
       "      <td>222.0</td>\n",
       "      <td>18.7</td>\n",
       "      <td>394.63</td>\n",
       "      <td>2.94</td>\n",
       "      <td>33.4</td>\n",
       "      <td>24.3</td>\n",
       "    </tr>\n",
       "    <tr>\n",
       "      <th>4</th>\n",
       "      <td>0.06905</td>\n",
       "      <td>0.0</td>\n",
       "      <td>2.18</td>\n",
       "      <td>0.0</td>\n",
       "      <td>0.458</td>\n",
       "      <td>7.147</td>\n",
       "      <td>54.2</td>\n",
       "      <td>6.0622</td>\n",
       "      <td>3.0</td>\n",
       "      <td>222.0</td>\n",
       "      <td>18.7</td>\n",
       "      <td>396.90</td>\n",
       "      <td>5.33</td>\n",
       "      <td>36.2</td>\n",
       "      <td>15.6</td>\n",
       "    </tr>\n",
       "  </tbody>\n",
       "</table>\n",
       "</div>"
      ],
      "text/plain": [
       "         0     1     2    3      4      5     6       7    8      9    10  \\\n",
       "0  0.00632  18.0  2.31  0.0  0.538  6.575  65.2  4.0900  1.0  296.0  15.3   \n",
       "1  0.02731   0.0  7.07  0.0  0.469  6.421  78.9  4.9671  2.0  242.0  17.8   \n",
       "2  0.02729   0.0  7.07  0.0  0.469  7.185  61.1  4.9671  2.0  242.0  17.8   \n",
       "3  0.03237   0.0  2.18  0.0  0.458  6.998  45.8  6.0622  3.0  222.0  18.7   \n",
       "4  0.06905   0.0  2.18  0.0  0.458  7.147  54.2  6.0622  3.0  222.0  18.7   \n",
       "\n",
       "       11    12    y1    y2  \n",
       "0  396.90  4.98  24.0  15.4  \n",
       "1  396.90  9.14  21.6  24.0  \n",
       "2  392.83  4.03  34.7  11.8  \n",
       "3  394.63  2.94  33.4  24.3  \n",
       "4  396.90  5.33  36.2  15.6  "
      ]
     },
     "execution_count": 21,
     "metadata": {},
     "output_type": "execute_result"
    }
   ],
   "source": [
    "boston = load_boston()\n",
    "X, y = boston['data'], boston['target']\n",
    "\n",
    "data = pd.DataFrame(X)\n",
    "data = data.assign(y1=y)\n",
    "np.random.shuffle(y)\n",
    "data = data.assign(y2=y)\n",
    "data.head()"
   ]
  },
  {
   "cell_type": "code",
   "execution_count": 22,
   "metadata": {
    "collapsed": true
   },
   "outputs": [],
   "source": [
    "X_train, X_test, y_train, y_test = train_test_split(data.values[:, :-2], data.values[:, -2:], test_size=0.2)"
   ]
  },
  {
   "cell_type": "code",
   "execution_count": 23,
   "metadata": {
    "collapsed": true
   },
   "outputs": [],
   "source": [
    "max_depth = 5\n",
    "estimator = DecisionTreeRegressor(max_depth=max_depth)"
   ]
  },
  {
   "cell_type": "code",
   "execution_count": 24,
   "metadata": {},
   "outputs": [
    {
     "data": {
      "text/plain": [
       "DecisionTreeRegressor(criterion='mse', max_depth=5, max_features=None,\n",
       "           max_leaf_nodes=None, min_impurity_decrease=0.0,\n",
       "           min_impurity_split=None, min_samples_leaf=1,\n",
       "           min_samples_split=2, min_weight_fraction_leaf=0.0,\n",
       "           presort=False, random_state=None, splitter='best')"
      ]
     },
     "execution_count": 24,
     "metadata": {},
     "output_type": "execute_result"
    }
   ],
   "source": [
    "estimator.fit(X_train, y_train)\n"
   ]
  },
  {
   "cell_type": "code",
   "execution_count": 25,
   "metadata": {
    "collapsed": true
   },
   "outputs": [],
   "source": [
    "leaf_ids = estimator.apply(X_test)"
   ]
  },
  {
   "cell_type": "code",
   "execution_count": 26,
   "metadata": {},
   "outputs": [
    {
     "name": "stdout",
     "output_type": "stream",
     "text": [
      "[[18.35294118]\n",
      " [17.32941176]]\n",
      "[[15. ]\n",
      " [26.6]]\n",
      "[[11.775]\n",
      " [22.34 ]]\n",
      "[[21.15333333]\n",
      " [24.6       ]]\n",
      "[[21.15333333]\n",
      " [24.6       ]]\n",
      "[[21.15333333]\n",
      " [24.6       ]]\n",
      "[[21.15333333]\n",
      " [24.6       ]]\n",
      "[[18.35294118]\n",
      " [17.32941176]]\n",
      "[[10.9]\n",
      " [50. ]]\n",
      "[[21.1 ]\n",
      " [19.54]]\n"
     ]
    }
   ],
   "source": [
    "leaf_ids\n",
    "for x in leaf_ids[:10]:\n",
    "    print(estimator.tree_.value[x])"
   ]
  },
  {
   "cell_type": "code",
   "execution_count": 27,
   "metadata": {},
   "outputs": [
    {
     "data": {
      "text/plain": [
       "array([[18.35294118, 17.32941176],\n",
       "       [15.        , 26.6       ],\n",
       "       [11.775     , 22.34      ],\n",
       "       [21.15333333, 24.6       ],\n",
       "       [21.15333333, 24.6       ],\n",
       "       [21.15333333, 24.6       ],\n",
       "       [21.15333333, 24.6       ],\n",
       "       [18.35294118, 17.32941176],\n",
       "       [10.9       , 50.        ],\n",
       "       [21.1       , 19.54      ]])"
      ]
     },
     "execution_count": 27,
     "metadata": {},
     "output_type": "execute_result"
    }
   ],
   "source": [
    "estimator.predict(X_test)[:10]"
   ]
  },
  {
   "cell_type": "code",
   "execution_count": 28,
   "metadata": {
    "collapsed": true
   },
   "outputs": [],
   "source": [
    "def build_contents_leaf(estimator, X, y):\n",
    "    \"\"\"\n",
    "    Useful datastructure for learning the kdes.\n",
    "    \"\"\"\n",
    "    y = np.atleast_2d(y).T\n",
    "    n, m = y.shape\n",
    "\n",
    "    contents_leaf = np.zeros((n, m + 1))\n",
    "    contents_leaf[:, :m] = y[:, :]                                  # First m columns are ground truth contents\n",
    "    contents_leaf[:, -1] = estimator.apply(X)                       # Last column is leaf index\n",
    "    return contents_leaf"
   ]
  },
  {
   "cell_type": "code",
   "execution_count": 29,
   "metadata": {
    "collapsed": true
   },
   "outputs": [],
   "source": [
    "from scipy.special import expit\n",
    "from sklearn.neighbors import KernelDensity"
   ]
  },
  {
   "cell_type": "code",
   "execution_count": 30,
   "metadata": {
    "collapsed": true
   },
   "outputs": [],
   "source": [
    "def get_kdes(tree, X, y, **kwargs):\n",
    "\n",
    "    contents_leaf = build_contents_leaf(tree, X, y)\n",
    "\n",
    "    def scotts_factor(a):\n",
    "        n, m = a.shape\n",
    "\n",
    "        h = n ** (-1.0 / (m + 4))\n",
    "        return h\n",
    "\n",
    "    leaves = np.unique(contents_leaf[:, -1])\n",
    "    kdes = {leaf_idx: None for leaf_idx in leaves}\n",
    "\n",
    "    for leaf_idx in leaves:\n",
    "        leaf_mask = contents_leaf[:, -1] == leaf_idx\n",
    "        leaf_data = contents_leaf[leaf_mask, :-1]\n",
    "\n",
    "        # Dynamical bandwidth selection\n",
    "        bandwidth = scotts_factor(leaf_data)\n",
    "\n",
    "        kdes[leaf_idx] = KernelDensity(bandwidth=bandwidth, **kwargs).fit(leaf_data)\n",
    "\n",
    "    tree.kdes = kdes\n",
    "    return"
   ]
  },
  {
   "cell_type": "code",
   "execution_count": 31,
   "metadata": {
    "collapsed": true
   },
   "outputs": [],
   "source": [
    "def score_samples(tree, X, y):\n",
    "\n",
    "    n, m = X.shape\n",
    "    out = np.zeros(n, dtype=np.float)\n",
    "\n",
    "    leaf_idxs = tree.apply(X)\n",
    "\n",
    "    u_leaf_idxs = np.unique(leaf_idxs).astype(int)\n",
    "\n",
    "    for leaf_idx in u_leaf_idxs:\n",
    "        leaf_mask = leaf_idxs == leaf_idx\n",
    "        leaf_data = np.atleast_2d(y[leaf_mask]).T\n",
    "        out[leaf_mask] = tree.kdes[leaf_idx].score_samples(leaf_data)\n",
    "\n",
    "    return np.exp(out)"
   ]
  },
  {
   "cell_type": "code",
   "execution_count": 32,
   "metadata": {
    "collapsed": true
   },
   "outputs": [],
   "source": [
    "import palmbomen"
   ]
  },
  {
   "cell_type": "code",
   "execution_count": 33,
   "metadata": {},
   "outputs": [
    {
     "data": {
      "text/plain": [
       "['PalmboomClassifier',\n",
       " 'PalmboomRegressor',\n",
       " '__builtins__',\n",
       " '__cached__',\n",
       " '__doc__',\n",
       " '__file__',\n",
       " '__loader__',\n",
       " '__name__',\n",
       " '__package__',\n",
       " '__path__',\n",
       " '__spec__',\n",
       " 'core']"
      ]
     },
     "execution_count": 33,
     "metadata": {},
     "output_type": "execute_result"
    }
   ],
   "source": [
    "dir(palmbomen)"
   ]
  },
  {
   "cell_type": "markdown",
   "metadata": {},
   "source": [
    "### Palmboom Single Target Regression"
   ]
  },
  {
   "cell_type": "code",
   "execution_count": 34,
   "metadata": {},
   "outputs": [
    {
     "name": "stdout",
     "output_type": "stream",
     "text": [
      "Training Data Dimension: (197, 1)\n",
      "Training Data Dimension: (141, 1)\n",
      "Training Data Dimension: (39, 1)\n",
      "Training Data Dimension: (27, 1)\n"
     ]
    }
   ],
   "source": [
    "rboom_st = palmbomen.PalmboomRegressor(max_depth=2)\n",
    "rboom_st.fit(X_train, y_train[:, :-1], marginal_kdes=True, joint_kdes=True)"
   ]
  },
  {
   "cell_type": "code",
   "execution_count": 35,
   "metadata": {},
   "outputs": [
    {
     "name": "stdout",
     "output_type": "stream",
     "text": [
      "\n",
      "Training Data Dimension: (404, 1)\n",
      "Test Data Dimension:     (102, 1)\n",
      "\n"
     ]
    }
   ],
   "source": [
    "msg = \"\"\"\n",
    "Training Data Dimension: {}\n",
    "Test Data Dimension:     {}\n",
    "\"\"\".format(y_train[:, :-1].shape, y_test[:, :-1].shape)\n",
    "print(msg)"
   ]
  },
  {
   "cell_type": "code",
   "execution_count": 36,
   "metadata": {},
   "outputs": [
    {
     "data": {
      "text/plain": [
       "array([3.50963882e+00, 2.72434879e-20, 9.66409521e+00, 1.16270283e+01,\n",
       "       9.21167412e+00, 1.12455267e+01, 6.23344125e+00, 9.01536795e+00,\n",
       "       4.48400151e+00, 9.54667067e+00])"
      ]
     },
     "execution_count": 36,
     "metadata": {},
     "output_type": "execute_result"
    }
   ],
   "source": [
    "probas = rboom_st.marginal_score_samples(X_test, y_test[:, :-1])\n",
    "probas[:10]*100"
   ]
  },
  {
   "cell_type": "code",
   "execution_count": 37,
   "metadata": {},
   "outputs": [
    {
     "name": "stdout",
     "output_type": "stream",
     "text": [
      "Test Data Dimension: (57, 1)\n",
      "Test Data Dimension: (34, 1)\n",
      "Test Data Dimension: (8, 1)\n",
      "Test Data Dimension: (3, 1)\n"
     ]
    },
    {
     "data": {
      "text/plain": [
       "array([3.50963882e+00, 2.72434879e-20, 9.66409521e+00, 1.16270283e+01,\n",
       "       9.21167412e+00, 1.12455267e+01, 6.23344125e+00, 9.01536795e+00,\n",
       "       4.48400151e+00, 9.54667067e+00])"
      ]
     },
     "execution_count": 37,
     "metadata": {},
     "output_type": "execute_result"
    }
   ],
   "source": [
    "probas = rboom_st.joint_score_samples(X_test, y_test[:, :-1])\n",
    "probas[:10]*100"
   ]
  },
  {
   "cell_type": "markdown",
   "metadata": {},
   "source": [
    "So, as we can see in the single target case there is no difference between joint and marginal."
   ]
  },
  {
   "cell_type": "markdown",
   "metadata": {},
   "source": [
    "### Palmboom Multi-Target Regression"
   ]
  },
  {
   "cell_type": "code",
   "execution_count": 38,
   "metadata": {},
   "outputs": [
    {
     "name": "stdout",
     "output_type": "stream",
     "text": [
      "Training Data Dimension: (197, 2)\n",
      "Training Data Dimension: (141, 2)\n",
      "Training Data Dimension: (39, 2)\n",
      "Training Data Dimension: (27, 2)\n"
     ]
    }
   ],
   "source": [
    "rboom_mt = palmbomen.PalmboomRegressor(max_depth=2)\n",
    "rboom_mt.fit(X_train, y_train, marginal_kdes=True, joint_kdes=True)"
   ]
  },
  {
   "cell_type": "code",
   "execution_count": 39,
   "metadata": {},
   "outputs": [
    {
     "name": "stdout",
     "output_type": "stream",
     "text": [
      "\n",
      "Training Data Dimension: (404, 2)\n",
      "Test Data Dimension:     (102, 2)\n",
      "\n"
     ]
    }
   ],
   "source": [
    "msg = \"\"\"\n",
    "Training Data Dimension: {}\n",
    "Test Data Dimension:     {}\n",
    "\"\"\".format(y_train.shape, y_test.shape)\n",
    "print(msg)"
   ]
  },
  {
   "cell_type": "code",
   "execution_count": 40,
   "metadata": {},
   "outputs": [
    {
     "data": {
      "text/plain": [
       "array([[3.50963882e+00, 3.13993611e+00],\n",
       "       [2.72434879e-20, 1.80741970e+00],\n",
       "       [9.66409521e+00, 7.75207638e+00],\n",
       "       [1.16270283e+01, 5.10227332e+00],\n",
       "       [9.21167412e+00, 6.72849230e+00],\n",
       "       [1.12455267e+01, 3.93818624e+00],\n",
       "       [6.23344125e+00, 6.56992351e+00],\n",
       "       [9.01536795e+00, 7.46250924e+00],\n",
       "       [4.48400151e+00, 2.24306808e+00],\n",
       "       [9.54667067e+00, 8.09427124e+00]])"
      ]
     },
     "execution_count": 40,
     "metadata": {},
     "output_type": "execute_result"
    }
   ],
   "source": [
    "probas = rboom_mt.marginal_score_samples(X_test, y_test)\n",
    "probas[:10]*100"
   ]
  },
  {
   "cell_type": "code",
   "execution_count": 41,
   "metadata": {},
   "outputs": [
    {
     "data": {
      "text/plain": [
       "array([1.10200417e+01, 4.92404167e-20, 7.49168042e+01, 5.93242764e+01,\n",
       "       6.19806784e+01, 4.42869786e+01, 4.09532322e+01, 6.72772667e+01,\n",
       "       1.00579207e+01, 7.72733418e+01])"
      ]
     },
     "execution_count": 41,
     "metadata": {},
     "output_type": "execute_result"
    }
   ],
   "source": [
    "res = probas[:, 0] * probas[:, 1]\n",
    "res[:10]*10000"
   ]
  },
  {
   "cell_type": "code",
   "execution_count": 42,
   "metadata": {},
   "outputs": [
    {
     "name": "stdout",
     "output_type": "stream",
     "text": [
      "Test Data Dimension: (57, 2)\n",
      "Test Data Dimension: (34, 2)\n",
      "Test Data Dimension: (8, 2)\n",
      "Test Data Dimension: (3, 2)\n"
     ]
    },
    {
     "data": {
      "text/plain": [
       "array([7.39827418e-02, 4.19966446e-47, 1.09532626e+00, 4.54262846e-01,\n",
       "       4.42203904e-01, 2.55657049e-01, 8.91784699e-02, 2.64423260e-01,\n",
       "       2.36900386e-06, 4.54206836e-01])"
      ]
     },
     "execution_count": 42,
     "metadata": {},
     "output_type": "execute_result"
    }
   ],
   "source": [
    "probas = rboom_mt.joint_score_samples(X_test, y_test)\n",
    "probas[:10]*100"
   ]
  },
  {
   "cell_type": "code",
   "execution_count": 43,
   "metadata": {},
   "outputs": [
    {
     "data": {
      "text/plain": [
       "{0, 1, 2}"
      ]
     },
     "execution_count": 43,
     "metadata": {},
     "output_type": "execute_result"
    }
   ],
   "source": [
    "{x for x in range(3)}"
   ]
  },
  {
   "cell_type": "code",
   "execution_count": 47,
   "metadata": {},
   "outputs": [
    {
     "data": {
      "text/plain": [
       "{}"
      ]
     },
     "execution_count": 47,
     "metadata": {},
     "output_type": "execute_result"
    }
   ],
   "source": [
    "rboom_mt.get_params(deep=False)"
   ]
  },
  {
   "cell_type": "code",
   "execution_count": 48,
   "metadata": {},
   "outputs": [
    {
     "data": {
      "text/plain": [
       "array([[1, 0, 0],\n",
       "       [0, 1, 0]])"
      ]
     },
     "execution_count": 48,
     "metadata": {},
     "output_type": "execute_result"
    }
   ],
   "source": [
    "m_codes = np.array([[1,0,0],[0,1,0]])\n",
    "m_codes"
   ]
  },
  {
   "cell_type": "code",
   "execution_count": 53,
   "metadata": {},
   "outputs": [
    {
     "data": {
      "text/plain": [
       "(1, 3)"
      ]
     },
     "execution_count": 53,
     "metadata": {},
     "output_type": "execute_result"
    }
   ],
   "source": [
    "np.atleast_2d(m_codes[0, :]).shape"
   ]
  },
  {
   "cell_type": "raw",
   "metadata": {},
   "source": [
    "for x in probas*10**2:\n",
    "    msg = \"\"\"\n",
    "    Probability:   {:.3f}\n",
    "    \"\"\".format(x)\n",
    "    print(msg)\n"
   ]
  }
 ],
 "metadata": {
  "kernelspec": {
   "display_name": "Python [conda env:discovery]",
   "language": "python",
   "name": "conda-env-discovery-py"
  },
  "language_info": {
   "codemirror_mode": {
    "name": "ipython",
    "version": 3
   },
   "file_extension": ".py",
   "mimetype": "text/x-python",
   "name": "python",
   "nbconvert_exporter": "python",
   "pygments_lexer": "ipython3",
   "version": "3.7.2"
  },
  "toc": {
   "nav_menu": {},
   "number_sections": true,
   "sideBar": true,
   "skip_h1_title": true,
   "toc_cell": false,
   "toc_position": {
    "height": "887px",
    "left": "0px",
    "right": "1708px",
    "top": "107px",
    "width": "212px"
   },
   "toc_section_display": "block",
   "toc_window_display": true
  }
 },
 "nbformat": 4,
 "nbformat_minor": 2
}
